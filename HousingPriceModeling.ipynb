{
    "cells": [
        {
            "cell_type": "markdown",
            "metadata": {},
            "source": "# Best Models for Predicting California Housing Prices"
        },
        {
            "cell_type": "code",
            "execution_count": 1,
            "metadata": {},
            "outputs": [],
            "source": "import os\nimport numpy as np\nimport pandas as pd\nimport matplotlib.pyplot as plt\nimport seaborn as sns\nfrom sklearn.ensemble import RandomForestRegressor\nfrom sklearn.tree import DecisionTreeRegressor\nfrom sklearn.linear_model import  ElasticNet\nfrom sklearn.linear_model import  Ridge\nfrom sklearn.model_selection import cross_val_score\nimport  statsmodels.formula.api as sm\nfrom sklearn.linear_model import LinearRegression\nfrom sklearn.metrics import mean_squared_error\nfrom sklearn.preprocessing import PolynomialFeatures\nfrom sklearn.linear_model import  Lasso\nfrom sklearn.model_selection import GridSearchCV\nimport matplotlib\nfrom sklearn.decomposition import  PCA\nfrom sklearn.cluster import  KMeans\n\n%matplotlib inline\n"
        },
        {
            "cell_type": "markdown",
            "metadata": {},
            "source": "### Uploading \n"
        },
        {
            "cell_type": "code",
            "execution_count": 2,
            "metadata": {},
            "outputs": [
                {
                    "data": {
                        "text/html": "<div>\n<style scoped>\n    .dataframe tbody tr th:only-of-type {\n        vertical-align: middle;\n    }\n\n    .dataframe tbody tr th {\n        vertical-align: top;\n    }\n\n    .dataframe thead th {\n        text-align: right;\n    }\n</style>\n<table border=\"1\" class=\"dataframe\">\n  <thead>\n    <tr style=\"text-align: right;\">\n      <th></th>\n      <th>longitude</th>\n      <th>latitude</th>\n      <th>housing_median_age</th>\n      <th>total_rooms</th>\n      <th>total_bedrooms</th>\n      <th>population</th>\n      <th>households</th>\n      <th>median_income</th>\n      <th>median_house_value</th>\n      <th>ocean_proximity</th>\n    </tr>\n  </thead>\n  <tbody>\n    <tr>\n      <th>0</th>\n      <td>-122.23</td>\n      <td>37.88</td>\n      <td>41.0</td>\n      <td>880.0</td>\n      <td>129.0</td>\n      <td>322.0</td>\n      <td>126.0</td>\n      <td>8.3252</td>\n      <td>452600.0</td>\n      <td>NEAR BAY</td>\n    </tr>\n    <tr>\n      <th>1</th>\n      <td>-122.22</td>\n      <td>37.86</td>\n      <td>21.0</td>\n      <td>7099.0</td>\n      <td>1106.0</td>\n      <td>2401.0</td>\n      <td>1138.0</td>\n      <td>8.3014</td>\n      <td>358500.0</td>\n      <td>NEAR BAY</td>\n    </tr>\n    <tr>\n      <th>2</th>\n      <td>-122.24</td>\n      <td>37.85</td>\n      <td>52.0</td>\n      <td>1467.0</td>\n      <td>190.0</td>\n      <td>496.0</td>\n      <td>177.0</td>\n      <td>7.2574</td>\n      <td>352100.0</td>\n      <td>NEAR BAY</td>\n    </tr>\n    <tr>\n      <th>3</th>\n      <td>-122.25</td>\n      <td>37.85</td>\n      <td>52.0</td>\n      <td>1274.0</td>\n      <td>235.0</td>\n      <td>558.0</td>\n      <td>219.0</td>\n      <td>5.6431</td>\n      <td>341300.0</td>\n      <td>NEAR BAY</td>\n    </tr>\n    <tr>\n      <th>4</th>\n      <td>-122.25</td>\n      <td>37.85</td>\n      <td>52.0</td>\n      <td>1627.0</td>\n      <td>280.0</td>\n      <td>565.0</td>\n      <td>259.0</td>\n      <td>3.8462</td>\n      <td>342200.0</td>\n      <td>NEAR BAY</td>\n    </tr>\n  </tbody>\n</table>\n</div>",
                        "text/plain": "   longitude  latitude  housing_median_age  total_rooms  total_bedrooms  \\\n0    -122.23     37.88                41.0        880.0           129.0   \n1    -122.22     37.86                21.0       7099.0          1106.0   \n2    -122.24     37.85                52.0       1467.0           190.0   \n3    -122.25     37.85                52.0       1274.0           235.0   \n4    -122.25     37.85                52.0       1627.0           280.0   \n\n   population  households  median_income  median_house_value ocean_proximity  \n0       322.0       126.0         8.3252            452600.0        NEAR BAY  \n1      2401.0      1138.0         8.3014            358500.0        NEAR BAY  \n2       496.0       177.0         7.2574            352100.0        NEAR BAY  \n3       558.0       219.0         5.6431            341300.0        NEAR BAY  \n4       565.0       259.0         3.8462            342200.0        NEAR BAY  "
                    },
                    "execution_count": 2,
                    "metadata": {},
                    "output_type": "execute_result"
                }
            ],
            "source": "# The code was removed by Watson Studio for sharing."
        },
        {
            "cell_type": "markdown",
            "metadata": {},
            "source": "### Data Cleaning Time"
        },
        {
            "cell_type": "code",
            "execution_count": 3,
            "metadata": {},
            "outputs": [
                {
                    "name": "stdout",
                    "output_type": "stream",
                    "text": "Shape of the dataframe is: \n (20640, 10)\nColumns of the dataframe include: \n Index(['longitude', 'latitude', 'housing_median_age', 'total_rooms',\n       'total_bedrooms', 'population', 'households', 'median_income',\n       'median_house_value', 'ocean_proximity'],\n      dtype='object')\n"
                }
            ],
            "source": "print('Shape of the dataframe is: \\n', dh.shape)\nprint('Columns of the dataframe include: \\n', dh.columns)"
        },
        {
            "cell_type": "code",
            "execution_count": 4,
            "metadata": {},
            "outputs": [],
            "source": "dh.dropna(axis = 0, inplace = True)    ### Clean data, drop the row with NaN value\ndh = dh.rename(columns = {'longitude':'long', 'latitude':'lat', 'housing_median_age':'age','total_rooms':'rooms','total_bedrooms':'bedrooms','population':'pop','median_income':'income','median_house_value':'price','ocean_proximity':'water'})"
        },
        {
            "cell_type": "code",
            "execution_count": 5,
            "metadata": {},
            "outputs": [
                {
                    "data": {
                        "text/html": "<div>\n<style scoped>\n    .dataframe tbody tr th:only-of-type {\n        vertical-align: middle;\n    }\n\n    .dataframe tbody tr th {\n        vertical-align: top;\n    }\n\n    .dataframe thead th {\n        text-align: right;\n    }\n</style>\n<table border=\"1\" class=\"dataframe\">\n  <thead>\n    <tr style=\"text-align: right;\">\n      <th></th>\n      <th>long</th>\n      <th>lat</th>\n      <th>age</th>\n      <th>rooms</th>\n      <th>bedrooms</th>\n      <th>pop</th>\n      <th>households</th>\n      <th>income</th>\n      <th>price</th>\n      <th>water</th>\n    </tr>\n  </thead>\n  <tbody>\n    <tr>\n      <th>8753</th>\n      <td>-118.36</td>\n      <td>33.82</td>\n      <td>26.0</td>\n      <td>5166.0</td>\n      <td>1313.0</td>\n      <td>2738.0</td>\n      <td>1239.0</td>\n      <td>3.3565</td>\n      <td>360800.0</td>\n      <td>&lt;1H OCEAN</td>\n    </tr>\n    <tr>\n      <th>10914</th>\n      <td>-117.87</td>\n      <td>33.74</td>\n      <td>31.0</td>\n      <td>2338.0</td>\n      <td>652.0</td>\n      <td>3289.0</td>\n      <td>631.0</td>\n      <td>2.6734</td>\n      <td>158500.0</td>\n      <td>&lt;1H OCEAN</td>\n    </tr>\n    <tr>\n      <th>6707</th>\n      <td>-118.15</td>\n      <td>34.14</td>\n      <td>27.0</td>\n      <td>1499.0</td>\n      <td>426.0</td>\n      <td>755.0</td>\n      <td>414.0</td>\n      <td>3.8750</td>\n      <td>258300.0</td>\n      <td>&lt;1H OCEAN</td>\n    </tr>\n    <tr>\n      <th>1007</th>\n      <td>-121.75</td>\n      <td>37.68</td>\n      <td>35.0</td>\n      <td>1755.0</td>\n      <td>299.0</td>\n      <td>702.0</td>\n      <td>263.0</td>\n      <td>5.2443</td>\n      <td>183400.0</td>\n      <td>INLAND</td>\n    </tr>\n    <tr>\n      <th>14053</th>\n      <td>-117.13</td>\n      <td>32.75</td>\n      <td>24.0</td>\n      <td>1877.0</td>\n      <td>519.0</td>\n      <td>898.0</td>\n      <td>483.0</td>\n      <td>2.2264</td>\n      <td>112500.0</td>\n      <td>NEAR OCEAN</td>\n    </tr>\n  </tbody>\n</table>\n</div>",
                        "text/plain": "         long    lat   age   rooms  bedrooms     pop  households  income  \\\n8753  -118.36  33.82  26.0  5166.0    1313.0  2738.0      1239.0  3.3565   \n10914 -117.87  33.74  31.0  2338.0     652.0  3289.0       631.0  2.6734   \n6707  -118.15  34.14  27.0  1499.0     426.0   755.0       414.0  3.8750   \n1007  -121.75  37.68  35.0  1755.0     299.0   702.0       263.0  5.2443   \n14053 -117.13  32.75  24.0  1877.0     519.0   898.0       483.0  2.2264   \n\n          price       water  \n8753   360800.0   <1H OCEAN  \n10914  158500.0   <1H OCEAN  \n6707   258300.0   <1H OCEAN  \n1007   183400.0      INLAND  \n14053  112500.0  NEAR OCEAN  "
                    },
                    "execution_count": 5,
                    "metadata": {},
                    "output_type": "execute_result"
                }
            ],
            "source": "dhn = dh.sample(n = 10000)             #### Only randomly get 10000 samples from the 330000+ data, for quick reviewing\ndhn.head()"
        },
        {
            "cell_type": "code",
            "execution_count": 6,
            "metadata": {},
            "outputs": [
                {
                    "data": {
                        "text/html": "<div>\n<style scoped>\n    .dataframe tbody tr th:only-of-type {\n        vertical-align: middle;\n    }\n\n    .dataframe tbody tr th {\n        vertical-align: top;\n    }\n\n    .dataframe thead th {\n        text-align: right;\n    }\n</style>\n<table border=\"1\" class=\"dataframe\">\n  <thead>\n    <tr style=\"text-align: right;\">\n      <th></th>\n      <th>long</th>\n      <th>lat</th>\n      <th>age</th>\n      <th>rooms</th>\n      <th>bedrooms</th>\n      <th>pop</th>\n      <th>households</th>\n      <th>income</th>\n      <th>price</th>\n    </tr>\n  </thead>\n  <tbody>\n    <tr>\n      <th>8753</th>\n      <td>-118.36</td>\n      <td>33.82</td>\n      <td>26.0</td>\n      <td>5166.0</td>\n      <td>1313.0</td>\n      <td>2738.0</td>\n      <td>1239.0</td>\n      <td>3.3565</td>\n      <td>360800.0</td>\n    </tr>\n    <tr>\n      <th>10914</th>\n      <td>-117.87</td>\n      <td>33.74</td>\n      <td>31.0</td>\n      <td>2338.0</td>\n      <td>652.0</td>\n      <td>3289.0</td>\n      <td>631.0</td>\n      <td>2.6734</td>\n      <td>158500.0</td>\n    </tr>\n    <tr>\n      <th>6707</th>\n      <td>-118.15</td>\n      <td>34.14</td>\n      <td>27.0</td>\n      <td>1499.0</td>\n      <td>426.0</td>\n      <td>755.0</td>\n      <td>414.0</td>\n      <td>3.8750</td>\n      <td>258300.0</td>\n    </tr>\n    <tr>\n      <th>1007</th>\n      <td>-121.75</td>\n      <td>37.68</td>\n      <td>35.0</td>\n      <td>1755.0</td>\n      <td>299.0</td>\n      <td>702.0</td>\n      <td>263.0</td>\n      <td>5.2443</td>\n      <td>183400.0</td>\n    </tr>\n    <tr>\n      <th>14053</th>\n      <td>-117.13</td>\n      <td>32.75</td>\n      <td>24.0</td>\n      <td>1877.0</td>\n      <td>519.0</td>\n      <td>898.0</td>\n      <td>483.0</td>\n      <td>2.2264</td>\n      <td>112500.0</td>\n    </tr>\n  </tbody>\n</table>\n</div>",
                        "text/plain": "         long    lat   age   rooms  bedrooms     pop  households  income  \\\n8753  -118.36  33.82  26.0  5166.0    1313.0  2738.0      1239.0  3.3565   \n10914 -117.87  33.74  31.0  2338.0     652.0  3289.0       631.0  2.6734   \n6707  -118.15  34.14  27.0  1499.0     426.0   755.0       414.0  3.8750   \n1007  -121.75  37.68  35.0  1755.0     299.0   702.0       263.0  5.2443   \n14053 -117.13  32.75  24.0  1877.0     519.0   898.0       483.0  2.2264   \n\n          price  \n8753   360800.0  \n10914  158500.0  \n6707   258300.0  \n1007   183400.0  \n14053  112500.0  "
                    },
                    "execution_count": 6,
                    "metadata": {},
                    "output_type": "execute_result"
                }
            ],
            "source": "dhn = dhn.drop(columns = ['water'])\ndhn.head()"
        },
        {
            "cell_type": "code",
            "execution_count": 7,
            "metadata": {
                "scrolled": false
            },
            "outputs": [
                {
                    "data": {
                        "text/plain": "long          float64\nlat           float64\nage           float64\nrooms         float64\nbedrooms      float64\npop           float64\nhouseholds    float64\nincome        float64\nprice         float64\nwater          object\ndtype: object"
                    },
                    "execution_count": 7,
                    "metadata": {},
                    "output_type": "execute_result"
                }
            ],
            "source": "dh.dtypes  ## Check type of each columns, change object to int for future analysis"
        },
        {
            "cell_type": "code",
            "execution_count": 8,
            "metadata": {},
            "outputs": [
                {
                    "data": {
                        "text/html": "<div>\n<style scoped>\n    .dataframe tbody tr th:only-of-type {\n        vertical-align: middle;\n    }\n\n    .dataframe tbody tr th {\n        vertical-align: top;\n    }\n\n    .dataframe thead th {\n        text-align: right;\n    }\n</style>\n<table border=\"1\" class=\"dataframe\">\n  <thead>\n    <tr style=\"text-align: right;\">\n      <th></th>\n      <th>long</th>\n      <th>lat</th>\n      <th>age</th>\n      <th>rooms</th>\n      <th>bedrooms</th>\n      <th>pop</th>\n      <th>households</th>\n      <th>income</th>\n      <th>price</th>\n    </tr>\n  </thead>\n  <tbody>\n    <tr>\n      <th>count</th>\n      <td>20433.000000</td>\n      <td>20433.000000</td>\n      <td>20433.000000</td>\n      <td>20433.000000</td>\n      <td>20433.000000</td>\n      <td>20433.000000</td>\n      <td>20433.000000</td>\n      <td>20433.000000</td>\n      <td>20433.000000</td>\n    </tr>\n    <tr>\n      <th>mean</th>\n      <td>-119.570689</td>\n      <td>35.633221</td>\n      <td>28.633094</td>\n      <td>2636.504233</td>\n      <td>537.870553</td>\n      <td>1424.946949</td>\n      <td>499.433465</td>\n      <td>3.871162</td>\n      <td>206864.413155</td>\n    </tr>\n    <tr>\n      <th>std</th>\n      <td>2.003578</td>\n      <td>2.136348</td>\n      <td>12.591805</td>\n      <td>2185.269567</td>\n      <td>421.385070</td>\n      <td>1133.208490</td>\n      <td>382.299226</td>\n      <td>1.899291</td>\n      <td>115435.667099</td>\n    </tr>\n    <tr>\n      <th>min</th>\n      <td>-124.350000</td>\n      <td>32.540000</td>\n      <td>1.000000</td>\n      <td>2.000000</td>\n      <td>1.000000</td>\n      <td>3.000000</td>\n      <td>1.000000</td>\n      <td>0.499900</td>\n      <td>14999.000000</td>\n    </tr>\n    <tr>\n      <th>25%</th>\n      <td>-121.800000</td>\n      <td>33.930000</td>\n      <td>18.000000</td>\n      <td>1450.000000</td>\n      <td>296.000000</td>\n      <td>787.000000</td>\n      <td>280.000000</td>\n      <td>2.563700</td>\n      <td>119500.000000</td>\n    </tr>\n    <tr>\n      <th>50%</th>\n      <td>-118.490000</td>\n      <td>34.260000</td>\n      <td>29.000000</td>\n      <td>2127.000000</td>\n      <td>435.000000</td>\n      <td>1166.000000</td>\n      <td>409.000000</td>\n      <td>3.536500</td>\n      <td>179700.000000</td>\n    </tr>\n    <tr>\n      <th>75%</th>\n      <td>-118.010000</td>\n      <td>37.720000</td>\n      <td>37.000000</td>\n      <td>3143.000000</td>\n      <td>647.000000</td>\n      <td>1722.000000</td>\n      <td>604.000000</td>\n      <td>4.744000</td>\n      <td>264700.000000</td>\n    </tr>\n    <tr>\n      <th>max</th>\n      <td>-114.310000</td>\n      <td>41.950000</td>\n      <td>52.000000</td>\n      <td>39320.000000</td>\n      <td>6445.000000</td>\n      <td>35682.000000</td>\n      <td>6082.000000</td>\n      <td>15.000100</td>\n      <td>500001.000000</td>\n    </tr>\n  </tbody>\n</table>\n</div>",
                        "text/plain": "               long           lat           age         rooms      bedrooms  \\\ncount  20433.000000  20433.000000  20433.000000  20433.000000  20433.000000   \nmean    -119.570689     35.633221     28.633094   2636.504233    537.870553   \nstd        2.003578      2.136348     12.591805   2185.269567    421.385070   \nmin     -124.350000     32.540000      1.000000      2.000000      1.000000   \n25%     -121.800000     33.930000     18.000000   1450.000000    296.000000   \n50%     -118.490000     34.260000     29.000000   2127.000000    435.000000   \n75%     -118.010000     37.720000     37.000000   3143.000000    647.000000   \nmax     -114.310000     41.950000     52.000000  39320.000000   6445.000000   \n\n                pop    households        income          price  \ncount  20433.000000  20433.000000  20433.000000   20433.000000  \nmean    1424.946949    499.433465      3.871162  206864.413155  \nstd     1133.208490    382.299226      1.899291  115435.667099  \nmin        3.000000      1.000000      0.499900   14999.000000  \n25%      787.000000    280.000000      2.563700  119500.000000  \n50%     1166.000000    409.000000      3.536500  179700.000000  \n75%     1722.000000    604.000000      4.744000  264700.000000  \nmax    35682.000000   6082.000000     15.000100  500001.000000  "
                    },
                    "execution_count": 8,
                    "metadata": {},
                    "output_type": "execute_result"
                }
            ],
            "source": "dh.describe()"
        },
        {
            "cell_type": "code",
            "execution_count": 9,
            "metadata": {},
            "outputs": [],
            "source": "dhn[['long', 'lat', 'age','rooms','bedrooms','pop','households','income','price']] = dhn[['long', 'lat', 'age','rooms','bedrooms','pop','households','income','price']].astype(int)"
        },
        {
            "cell_type": "code",
            "execution_count": 10,
            "metadata": {},
            "outputs": [],
            "source": "#### data normalization for totalPrice, square\nmaxPrice = max(dhn['price'])\ndhn['price'] = dhn['price'] / maxPrice"
        },
        {
            "cell_type": "markdown",
            "metadata": {},
            "source": "### Visualize some basic trends"
        },
        {
            "cell_type": "code",
            "execution_count": null,
            "metadata": {},
            "outputs": [],
            "source": "fig, axs = plt.subplots(ncols=4, figsize = (30,5))\nsns.boxplot(x='age', y='price', data=dhn, ax=axs[0])\nsns.boxplot(x='rooms', y='price', data=dhn, ax=axs[1])\nsns.boxplot(x='bedrooms', y='price', data=dhn, ax=axs[2])\nsns.boxplot(x='income', y='price', data=dhn, ax=axs[3])"
        },
        {
            "cell_type": "code",
            "execution_count": null,
            "metadata": {},
            "outputs": [],
            "source": "plt.figure(figsize=(10,7))\nplt.hist(dh[dh['bedrooms'].notnull()]['bedrooms'],bins=10,color='blue')#histogram of bedrooms\n#remove outliars\n(dh['bedrooms']>4000).sum()\nplt.title('Bedroom Frequency')\nplt.xlabel('Total bedrooms')\nplt.ylabel('Frequency')"
        },
        {
            "cell_type": "code",
            "execution_count": null,
            "metadata": {},
            "outputs": [],
            "source": "def calcCategoricalMedian(x):\n    \"\"\" fill the missing values of bedrooms based on categories of water\"\"\"\n    uniqueWater=x['water'].unique()\n    for i in uniqueWater:\n        median=x[x['water']==i]['bedrooms'].median()\n        x.loc[x['water']==i,'bedrooms'] =  x[x['water']==i]['bedrooms'].fillna(median)\ncalcCategoricalMedian(dh)"
        },
        {
            "cell_type": "code",
            "execution_count": null,
            "metadata": {},
            "outputs": [],
            "source": "dh.plot(kind=\"scatter\",x=\"long\",y=\"lat\",alpha=0.4,\n             s=dh[\"pop\"]/100,label=\"population\",figsize=(10,7),\n             c=\"price\",cmap=plt.get_cmap(\"jet\"),colorbar=True, \n            )\nplt.legend()"
        },
        {
            "cell_type": "code",
            "execution_count": null,
            "metadata": {},
            "outputs": [],
            "source": "sns.distplot(dh.price)"
        },
        {
            "cell_type": "code",
            "execution_count": null,
            "metadata": {},
            "outputs": [],
            "source": "plt.figure(figsize=(10,7))\n\nplt.scatter(dh['pop'],dh['price'],c=dh['price'],s=dh['income']*50)\nplt.colorbar\nplt.title('Area Population v House Value' )\nplt.xlabel('population')\nplt.ylabel('house value')\nplt.plot()"
        },
        {
            "cell_type": "code",
            "execution_count": null,
            "metadata": {},
            "outputs": [],
            "source": "plt.figure(figsize=(10,7))\nsns.heatmap(cbar=False,annot=True,data=dh.corr())\nplt.title('% Corelation Matrix')\nplt.show()"
        },
        {
            "cell_type": "code",
            "execution_count": null,
            "metadata": {},
            "outputs": [],
            "source": "corrMatrix=dh.corr()\ncorrMatrix[\"price\"].sort_values(ascending=False) "
        },
        {
            "cell_type": "code",
            "execution_count": null,
            "metadata": {},
            "outputs": [],
            "source": "plt.figure(figsize=(10,7))\nsns.boxplot(data=dh,x='water',y='price')\nplt.plot()"
        },
        {
            "cell_type": "markdown",
            "metadata": {},
            "source": "### Data Selection"
        },
        {
            "cell_type": "code",
            "execution_count": null,
            "metadata": {},
            "outputs": [],
            "source": "dh=pd.concat([pd.get_dummies(dh['water'],drop_first=True),dh],axis=1).drop('water',axis=1)\ndh['Income per Population']=dh['income']/(dh['pop']-dh['households'])\ndh['Bedrooms per House']=dh['bedrooms']/dh['rooms']\ndh['Houses per Population']=dh['households']/dh['pop']"
        },
        {
            "cell_type": "code",
            "execution_count": null,
            "metadata": {},
            "outputs": [],
            "source": "def buildingType(x):\n    if x<=10:\n        return \"new\"\n    elif x<=30:\n        return 'mid age'\n    else:\n        return 'old'\ndf=pd.concat([dh,pd.get_dummies(dh['age'].apply(buildingType),drop_first=True)],axis=1)"
        },
        {
            "cell_type": "code",
            "execution_count": null,
            "metadata": {},
            "outputs": [],
            "source": "x=dh.drop('price',axis=1).values\ny=dh['price'].values"
        },
        {
            "cell_type": "markdown",
            "metadata": {},
            "source": "### More Data Cleaning/ Pre Processing"
        },
        {
            "cell_type": "code",
            "execution_count": null,
            "metadata": {},
            "outputs": [],
            "source": "x_train, x_test, y_train, y_test = train_test_split(x, y, test_size=0.3, random_state=0)\n\nprint(\"number of training samples:\",x_train.shape[0])\nprint(\"number of test samples:\", x_test.shape[0])"
        },
        {
            "cell_type": "code",
            "execution_count": null,
            "metadata": {},
            "outputs": [],
            "source": "from sklearn.preprocessing import MinMaxScaler\nms=MinMaxScaler()\nx_train=ms.fit_transform(x_train)\nx_test=ms.transform(x_test)"
        },
        {
            "cell_type": "code",
            "execution_count": null,
            "metadata": {},
            "outputs": [],
            "source": "def variance(x):\n    total=0\n    hlist=[]\n    for i in np.arange(0,x_train.shape[1]):\n        p=PCA(n_components=i+1)\n        p.fit(x)\n        total=total+p.explained_variance_ratio_[i]\n        hlist.append(total)\n        \n    return hlist\nxtrainvariance=list(map(lambda x:x*100,variance(x_train)))"
        },
        {
            "cell_type": "code",
            "execution_count": null,
            "metadata": {},
            "outputs": [],
            "source": "plt.figure(figsize=(10,7))\nplt.plot(np.arange(1,x_train.shape[1]+1),xtrainvariance,marker='x',markerfacecolor='red',lw=6)\nplt.xlabel('number of components')\nplt.ylabel('comulative variance %')\nplt.title('comulative variance ratio of p.c.a components')"
        },
        {
            "cell_type": "code",
            "execution_count": null,
            "metadata": {},
            "outputs": [],
            "source": "pca=PCA(n_components=2)\npca.fit(x_train)\nptrain=pca.fit_transform(x_train)"
        },
        {
            "cell_type": "code",
            "execution_count": null,
            "metadata": {},
            "outputs": [],
            "source": "lm = LinearRegression()\nlm.fit(X,Y)\nprint(lm.coef_)"
        },
        {
            "cell_type": "code",
            "execution_count": null,
            "metadata": {},
            "outputs": [],
            "source": "bestk=[]\nfor i in range(1,10):\n    k=KMeans(n_clusters=i)\n    k.fit(x_train)\n    bestk.append(k.inertia_)"
        },
        {
            "cell_type": "code",
            "execution_count": null,
            "metadata": {},
            "outputs": [],
            "source": "plt.figure(figsize=(10,7))\nplt.plot(np.arange(1,len(bestk)+1),bestk,marker='o',markerfacecolor='blue',lw=5,color='red')\nplt.title('Elbow curve')\nplt.xlabel('number of clusters')\nplt.ylabel('WWSS')\nplt.show()"
        },
        {
            "cell_type": "code",
            "execution_count": null,
            "metadata": {},
            "outputs": [],
            "source": "k=KMeans(n_clusters=4)\nkpred=k.fit_predict(x_train)"
        },
        {
            "cell_type": "code",
            "execution_count": null,
            "metadata": {},
            "outputs": [],
            "source": "plt.figure(figsize=(9,6))\ncolor=['purple','blue','green','pink']\nfor i in range(3):\n    plt.scatter(ptrain[kpred==i][:,0],ptrain[kpred==i][:,1],c=color[i])\n    plt.scatter(k.cluster_centers_[i,0],k.cluster_centers_[i,1],marker='x')\n    plt.xlabel('pc1')\n    plt.ylabel('pc2')"
        },
        {
            "cell_type": "code",
            "execution_count": null,
            "metadata": {},
            "outputs": [],
            "source": "matplotlib.rcParams.update({'font.size': 12})\npca=PCA(n_components=None)\npca.fit(x_train)\nplt.figure(figsize=(20,15))\nsns.heatmap(pca.components_,annot=True,xticklabels=dh.drop('price',axis=1).columns,yticklabels=[str(i) for i in range(1,len(dh.columns))])\nplt.xlabel('Features')\nplt.ylabel('Components')\nplt.title('Relation Matrix')\nplt.show()\nmatplotlib.rcParams.update({'font.size': 10})"
        },
        {
            "cell_type": "markdown",
            "metadata": {},
            "source": "### Simple Linear Regression Model"
        },
        {
            "cell_type": "code",
            "execution_count": null,
            "metadata": {
                "scrolled": true
            },
            "outputs": [],
            "source": "### predict by using x_test\nyhat_lm = lm.predict(x_test)\nax1 = sns.distplot(y_test, hist= False, color='b', label = \"Actual Value\")\nsns.distplot(yhat_lm, hist=False, color = \"r\", label =\"Predict price by Simple Linear Regression\", ax=ax1)"
        },
        {
            "cell_type": "code",
            "execution_count": null,
            "metadata": {
                "scrolled": true
            },
            "outputs": [],
            "source": "print('MSE for SLR is: ', mean_squared_error(y_test, yhat_lm))\nprint('R score for SLR is: ', lm.score(x_test, y_test))"
        },
        {
            "cell_type": "markdown",
            "metadata": {},
            "source": "### A PolyRegression Model"
        },
        {
            "cell_type": "code",
            "execution_count": null,
            "metadata": {},
            "outputs": [],
            "source": "Rsqu_test = [] ## create empty list\norder =[1,2,3,4]    ## contains different polynomial orders\nfor n in order:\n\tpr = PolynomialFeatures(degree = n)\n\tx_train_pr =pr.fit_transform(x_train)\n\tx_test_pr = pr.fit_transform(x_test)\n\tlm.fit(x_train_pr, y_train)\n\tRsqu_test.append(lm.score(x_test_pr, y_test))\nprint('R square score for different polynomial orders are: ',Rsqu_test)"
        },
        {
            "cell_type": "code",
            "execution_count": null,
            "metadata": {},
            "outputs": [],
            "source": "def regresssor_model(x,y,estimator):\n   \n    regressor=estimator()\n    regressor.fit(x,y)\n    lr_rmse=np.sqrt(mean_squared_error(y,regressor.predict(x)))\n    cv_regressor=cross_val_score(cv=10,X=x,y=y,estimator=regressor,scoring='r2')\n    print('The cross validated accuracy  - '+str(100*cv_regressor.mean()))\n    print('The corss validated variance is - '+str(100*cv_regressor.std()))\n    return regressor"
        },
        {
            "cell_type": "code",
            "execution_count": null,
            "metadata": {},
            "outputs": [],
            "source": "def topoly(degree,x_train,x_test):\n    poly=PolynomialFeatures(degree=degree)\n    X=poly.fit_transform(x_train)\n    x=poly.fit_transform(x_test)\n    return (X,x)"
        },
        {
            "cell_type": "code",
            "execution_count": null,
            "metadata": {},
            "outputs": [],
            "source": "def evaluate(ypred,ytest,regressor):\n    plt.figure(figsize=(15,8))\n    plt.xlabel('(ytest) - (ypred)')\n    plt.ylabel('frequency')\n    plt.title('residual plot')\n    plt.hist(ytest-ypred)\n    print(\"root mean squared error for test data   is \"+str(np.sqrt(mean_squared_error(ytest,ypred))))\n    plt.show()"
        },
        {
            "cell_type": "code",
            "execution_count": null,
            "metadata": {},
            "outputs": [],
            "source": "xtrainpoly,xtestpoly=topoly(3,x_train,x_test)\nl=regresssor_model(xtrainpoly,y_train,LinearRegression)\nevaluate(l.predict(xtestpoly),y_test,l)"
        },
        {
            "cell_type": "code",
            "execution_count": null,
            "metadata": {},
            "outputs": [],
            "source": "xtrainpoly,xtestpoly=topoly(2,x_train[:,11:12],x_test[:,11:12])\nl=regresssor_model(xtrainpoly,y_train,LinearRegression)\nevaluate(l.predict(xtestpoly),y_test,l)"
        },
        {
            "cell_type": "markdown",
            "metadata": {},
            "source": "### A ridge model"
        },
        {
            "cell_type": "code",
            "execution_count": null,
            "metadata": {},
            "outputs": [],
            "source": "check =regresssor_model(x_train,y_train,Ridge)\nevaluate(check.predict(x_test),y_test,check)\nplt.figure(figsize=(10,7))\nplt.bar(np.arange(len(check.coef_)),check.coef_,color='blue')\nplt.xlabel('coefficients')\nplt.ylabel('coefficients value')\nplt.title('coeff graph')"
        },
        {
            "cell_type": "code",
            "execution_count": null,
            "metadata": {},
            "outputs": [],
            "source": "RidgeModel = Ridge(alpha = 0.01)\nRidgeModel.fit(x_train,y_train)\nyhat_ridge = RidgeModel.predict(x_test)\n\n\nprint('MSE for RidgeModel is: ', mean_squared_error(y_test, yhat_ridge))\nprint('R score for RidgeModel is: ', RidgeModel.score(x_test, y_test))\n\n### predict by using x_test\nax2 = sns.distplot(y_test, hist= False, color='r', label = \"Actual Value\")\nsns.distplot(yhat_ridge, hist=False, color = \"b\", label =\"Predict price by RidgeModel\", ax=ax2)"
        },
        {
            "cell_type": "markdown",
            "metadata": {},
            "source": "### For polynomial ridgeModel"
        },
        {
            "cell_type": "code",
            "execution_count": null,
            "metadata": {},
            "outputs": [],
            "source": "pr = PolynomialFeatures(degree=2)\nx_train_pr = pr.fit_transform(x_train)\nx_test_pr = pr.fit_transform(x_test)\nRidgeModel_poly = Ridge(alpha = 0.01)\nRidgeModel_poly.fit(x_train_pr, y_train)\nyhat_ridge_poly = RidgeModel_poly.predict(x_test_pr)\n\nprint('MSE for RidgeModel-poly is: ', mean_squared_error(y_test, yhat_ridge_poly))\nprint('R score for RidgeModel-poly is: ', RidgeModel_poly.score(x_test_pr, y_test))\n\n### predict by using x_test\nax3 = sns.distplot(y_test, hist= False, color='r', label = \"Actual Value\")\nsns.distplot(yhat_ridge_poly, hist=False, color = \"b\", label =\"Predict price by RidgeModel_poly\", ax=ax3)"
        },
        {
            "cell_type": "code",
            "execution_count": null,
            "metadata": {},
            "outputs": [],
            "source": "dffs = dh.sample(n = 500) "
        },
        {
            "cell_type": "markdown",
            "metadata": {},
            "source": "### Decision Trees"
        },
        {
            "cell_type": "code",
            "execution_count": null,
            "metadata": {},
            "outputs": [],
            "source": "dtree=regresssor_model(x_train,y_train,DecisionTreeRegressor)\ndtree.fit(x_train,y_train)\nprint('mean squared errror is',end='\\t-')\nnp.sqrt(mean_squared_error(y_test,dtree.predict(x_test)))"
        },
        {
            "cell_type": "code",
            "execution_count": null,
            "metadata": {},
            "outputs": [],
            "source": "par=[{\n            \n            'max_depth':[2,3,4,5,6,10,20,30,40,50,60,70,100],\n            'min_samples_split':[2,3,4,7,10,12],\n            'min_samples_leaf' :[1,3,5,10,15,20,25],\n            'max_features':['sqrt','log2'],\n            \n        }\n        ]\n\nfrom sklearn.model_selection import GridSearchCV\ngc=GridSearchCV(dtree,par,cv=10,scoring='r2',n_jobs=-1)\ngc.fit(x_train,y_train)\ngc.best_estimator_"
        },
        {
            "cell_type": "code",
            "execution_count": null,
            "metadata": {},
            "outputs": [],
            "source": "gc.best_score_\ndt=gc.best_estimator_\ndt.fit(x_train,y_train)\nnp.sqrt(mean_squared_error(y_test,dtree.predict(x_test)))"
        },
        {
            "cell_type": "code",
            "execution_count": null,
            "metadata": {},
            "outputs": [],
            "source": "plt.figure(figsize=(10,8))\ndata=pd.DataFrame({'feature':dh.columns[dh.columns!='price'].values,\"importance\":dtree.feature_importances_})\nsns.barplot(data=data,y='feature',x='importance')\nplt.title('feature importance')"
        },
        {
            "cell_type": "markdown",
            "metadata": {},
            "source": "### Random Forest"
        },
        {
            "cell_type": "code",
            "execution_count": null,
            "metadata": {},
            "outputs": [],
            "source": "rg=RandomForestRegressor(n_estimators=50)\nrg.fit(x_train,y_train)"
        },
        {
            "cell_type": "code",
            "execution_count": null,
            "metadata": {},
            "outputs": [],
            "source": "print(np.sqrt(mean_squared_error(y_test,rg.predict(x_test))))\nprint(rg.score(x_test,y_test))"
        },
        {
            "cell_type": "code",
            "execution_count": null,
            "metadata": {},
            "outputs": [],
            "source": "plt.figure(figsize=(10,7))\nplt.hist(y_test-rg.predict(x_test))"
        },
        {
            "cell_type": "code",
            "execution_count": null,
            "metadata": {},
            "outputs": [],
            "source": "params=[{\n            'n_estimators':[20,30,70,50,100,200,300,400,600,650,630,680],\n            'max_depth':[10,20,30,40,50,60,70,100],\n            'min_samples_split':[2,3,4,5,10],\n            'min_samples_leaf' :[1,2,5,7,10],\n            'bootstrap':[True,False],\n            'max_features':['sqrt','auto']\n            \n            \n        }\n]"
        },
        {
            "cell_type": "code",
            "execution_count": null,
            "metadata": {},
            "outputs": [],
            "source": "rg=RandomForestRegressor(bootstrap=False, criterion='mse', max_depth=70,\n           max_features='sqrt', max_leaf_nodes=None,\n           min_impurity_decrease=0.0, min_impurity_split=None,\n           min_samples_leaf=1, min_samples_split=2,\n           min_weight_fraction_leaf=0.0, n_estimators=630, n_jobs=1,\n           oob_score=False, verbose=0, warm_start=False)\nrg.fit(x_train,y_train)\nnp.sqrt(mean_squared_error(y_test,rg.predict(x_test)))"
        },
        {
            "cell_type": "code",
            "execution_count": null,
            "metadata": {},
            "outputs": [],
            "source": "np.sqrt(mean_squared_error(y_test,rg.predict(x_test)))"
        },
        {
            "cell_type": "code",
            "execution_count": null,
            "metadata": {},
            "outputs": [],
            "source": "plt.figure(figsize=(12,7))\nplt.title('Residual Plot')\nplt.hist(y_test-rg.predict(x_test))\nplt.show()"
        },
        {
            "cell_type": "code",
            "execution_count": null,
            "metadata": {},
            "outputs": [],
            "source": "rg.score(x_test,y_test)"
        },
        {
            "cell_type": "code",
            "execution_count": null,
            "metadata": {},
            "outputs": [],
            "source": "plt.figure(figsize=(9,6))\nplt.title('Feature Importance')\n\nsns.barplot(data={'importance':rg.feature_importances_,'feature':dh.columns[dh.columns!='price']},y='feature',x='importance')"
        },
        {
            "cell_type": "code",
            "execution_count": null,
            "metadata": {},
            "outputs": [],
            "source": "rg=RandomForestRegressor(n_estimators=400)\nrg.fit(x_train[:,11:12],y_train)"
        },
        {
            "cell_type": "code",
            "execution_count": null,
            "metadata": {},
            "outputs": [],
            "source": "xt=np.arange(min(x_test[:,11]),max(x_test[:,11]),0.005)\nxt=xt.reshape(len(xt),1)"
        },
        {
            "cell_type": "markdown",
            "metadata": {},
            "source": "## Discussion"
        },
        {
            "cell_type": "markdown",
            "metadata": {},
            "source": "Random forest would be the best model for this data set because of the low mean squared error and high r squared it produces.\nWith the most important features being average income of area, and whether or not a house is located inland."
        },
        {
            "cell_type": "code",
            "execution_count": null,
            "metadata": {},
            "outputs": [],
            "source": ""
        }
    ],
    "metadata": {
        "kernelspec": {
            "display_name": "Python 3.6",
            "language": "python",
            "name": "python3"
        },
        "language_info": {
            "codemirror_mode": {
                "name": "ipython",
                "version": 3
            },
            "file_extension": ".py",
            "mimetype": "text/x-python",
            "name": "python",
            "nbconvert_exporter": "python",
            "pygments_lexer": "ipython3",
            "version": "3.6.9"
        }
    },
    "nbformat": 4,
    "nbformat_minor": 2
}